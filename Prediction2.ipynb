{
 "cells": [
  {
   "cell_type": "code",
   "execution_count": 1,
   "id": "15ad2ba1",
   "metadata": {},
   "outputs": [],
   "source": [
    "age = [20, 21, 23, 25, 28, 30, 35, 40]\n",
    "experience = [0, 0, 1, 2, 3, 5, 10, 12]\n",
    "income = [ 43. ,  45. ,  51.5,  58. ,  66.5,  75.5,  98. , 113. ]"
   ]
  },
  {
   "cell_type": "code",
   "execution_count": 2,
   "id": "248133e2",
   "metadata": {},
   "outputs": [],
   "source": [
    "import numpy as np"
   ]
  },
  {
   "cell_type": "code",
   "execution_count": 3,
   "id": "977d7664",
   "metadata": {},
   "outputs": [],
   "source": [
    "Age = np.array(age)\n",
    "Exp = np.array(experience)\n",
    "Inc = np.array(income)"
   ]
  },
  {
   "cell_type": "code",
   "execution_count": 4,
   "id": "2cc2982c",
   "metadata": {},
   "outputs": [
    {
     "data": {
      "text/plain": [
       "array([1., 1., 1., 1., 1., 1., 1., 1.])"
      ]
     },
     "execution_count": 4,
     "metadata": {},
     "output_type": "execute_result"
    }
   ],
   "source": [
    "ones = np.ones(len(Age))\n",
    "ones"
   ]
  },
  {
   "cell_type": "code",
   "execution_count": 5,
   "id": "e4785638",
   "metadata": {},
   "outputs": [],
   "source": [
    "X = np.c_[ones, age, Exp]"
   ]
  },
  {
   "cell_type": "code",
   "execution_count": 6,
   "id": "f9ad11d8",
   "metadata": {},
   "outputs": [
    {
     "data": {
      "text/plain": [
       "array([[ 1., 20.,  0.],\n",
       "       [ 1., 21.,  0.],\n",
       "       [ 1., 23.,  1.],\n",
       "       [ 1., 25.,  2.],\n",
       "       [ 1., 28.,  3.],\n",
       "       [ 1., 30.,  5.],\n",
       "       [ 1., 35., 10.],\n",
       "       [ 1., 40., 12.]])"
      ]
     },
     "execution_count": 6,
     "metadata": {},
     "output_type": "execute_result"
    }
   ],
   "source": [
    "X\n"
   ]
  },
  {
   "cell_type": "code",
   "execution_count": 7,
   "id": "010f5581",
   "metadata": {},
   "outputs": [],
   "source": [
    "Y = np.c_[Inc]"
   ]
  },
  {
   "cell_type": "code",
   "execution_count": 8,
   "id": "62afebb1",
   "metadata": {},
   "outputs": [
    {
     "data": {
      "text/plain": [
       "array([[ 43. ],\n",
       "       [ 45. ],\n",
       "       [ 51.5],\n",
       "       [ 58. ],\n",
       "       [ 66.5],\n",
       "       [ 75.5],\n",
       "       [ 98. ],\n",
       "       [113. ]])"
      ]
     },
     "execution_count": 8,
     "metadata": {},
     "output_type": "execute_result"
    }
   ],
   "source": [
    "Y"
   ]
  },
  {
   "cell_type": "code",
   "execution_count": 9,
   "id": "6bd9c5d3",
   "metadata": {},
   "outputs": [
    {
     "data": {
      "text/plain": [
       "(3, 1)"
      ]
     },
     "execution_count": 9,
     "metadata": {},
     "output_type": "execute_result"
    }
   ],
   "source": [
    "from numpy.linalg import *\n",
    "left = inv(X.T.dot(X))\n",
    "right = X.T.dot(Y)\n",
    "W = left.dot(right)\n",
    "W.shape"
   ]
  },
  {
   "cell_type": "code",
   "execution_count": 10,
   "id": "1dfdfbd3",
   "metadata": {},
   "outputs": [
    {
     "data": {
      "text/plain": [
       "array([[3. ],\n",
       "       [2. ],\n",
       "       [2.5]])"
      ]
     },
     "execution_count": 10,
     "metadata": {},
     "output_type": "execute_result"
    }
   ],
   "source": [
    "W"
   ]
  },
  {
   "cell_type": "code",
   "execution_count": 15,
   "id": "19eedd3b",
   "metadata": {},
   "outputs": [
    {
     "data": {
      "text/plain": [
       "array([[ 43. ],\n",
       "       [ 45. ],\n",
       "       [ 51.5],\n",
       "       [ 58. ],\n",
       "       [ 66.5],\n",
       "       [ 75.5],\n",
       "       [ 98. ],\n",
       "       [113. ]])"
      ]
     },
     "execution_count": 15,
     "metadata": {},
     "output_type": "execute_result"
    }
   ],
   "source": [
    "ycap = X.dot(W)\n",
    "ycap"
   ]
  },
  {
   "cell_type": "code",
   "execution_count": 16,
   "id": "46ecbd8c",
   "metadata": {},
   "outputs": [
    {
     "data": {
      "text/plain": [
       "1.0344927535741302e-22"
      ]
     },
     "execution_count": 16,
     "metadata": {},
     "output_type": "execute_result"
    }
   ],
   "source": [
    "# to find error --> MSE is used --> mean square error.\n",
    "mse = ((Y-ycap)**2).mean()\n",
    "mse"
   ]
  },
  {
   "cell_type": "code",
   "execution_count": 17,
   "id": "d51a4252",
   "metadata": {},
   "outputs": [
    {
     "name": "stdout",
     "output_type": "stream",
     "text": [
      " accuracy  100.0\n"
     ]
    }
   ],
   "source": [
    "# to test quality of your prediction --> Rsquare is used.\n",
    "# rsq = 1 - (rss/tss)\n",
    "rss = ((Y - ycap)**2).sum()\n",
    "tss = ((Y - Y.mean())**2).sum()\n",
    "rsq = 1 - (rss/tss)\n",
    "print(\" accuracy \", rsq*100)\n"
   ]
  },
  {
   "cell_type": "code",
   "execution_count": 18,
   "id": "837bd5ed",
   "metadata": {},
   "outputs": [],
   "source": [
    "# new data\n",
    "\n",
    "new_age = [20, 28, 42, 22, 32]\n",
    "new_exp = [0, 5, 10, 1, 8]\n"
   ]
  },
  {
   "cell_type": "code",
   "execution_count": 19,
   "id": "1840a357",
   "metadata": {},
   "outputs": [
    {
     "data": {
      "text/plain": [
       "array([1., 1., 1., 1., 1.])"
      ]
     },
     "execution_count": 19,
     "metadata": {},
     "output_type": "execute_result"
    }
   ],
   "source": [
    "ones = np.ones(len(new_age))\n",
    "ones"
   ]
  },
  {
   "cell_type": "code",
   "execution_count": 20,
   "id": "4acbcf41",
   "metadata": {},
   "outputs": [
    {
     "data": {
      "text/plain": [
       "array([[ 1., 20.,  0.],\n",
       "       [ 1., 28.,  5.],\n",
       "       [ 1., 42., 10.],\n",
       "       [ 1., 22.,  1.],\n",
       "       [ 1., 32.,  8.]])"
      ]
     },
     "execution_count": 20,
     "metadata": {},
     "output_type": "execute_result"
    }
   ],
   "source": [
    "X1 = np.c_[ones, new_age, new_exp]\n",
    "X1"
   ]
  },
  {
   "cell_type": "code",
   "execution_count": 21,
   "id": "0553acf0",
   "metadata": {},
   "outputs": [
    {
     "data": {
      "text/plain": [
       "array([[ 43. ],\n",
       "       [ 71.5],\n",
       "       [112. ],\n",
       "       [ 49.5],\n",
       "       [ 87. ]])"
      ]
     },
     "execution_count": 21,
     "metadata": {},
     "output_type": "execute_result"
    }
   ],
   "source": [
    "predict_income = X1.dot(W)\n",
    "predict_income"
   ]
  },
  {
   "cell_type": "code",
   "execution_count": 23,
   "id": "6cf5f6cf",
   "metadata": {},
   "outputs": [
    {
     "data": {
      "text/plain": [
       "array([[ 20. ,   0. ,  43. ],\n",
       "       [ 28. ,   5. ,  71.5],\n",
       "       [ 42. ,  10. , 112. ],\n",
       "       [ 22. ,   1. ,  49.5],\n",
       "       [ 32. ,   8. ,  87. ]])"
      ]
     },
     "execution_count": 23,
     "metadata": {},
     "output_type": "execute_result"
    }
   ],
   "source": [
    "np.c_[new_age, new_exp, predict_income]"
   ]
  },
  {
   "cell_type": "code",
   "execution_count": 25,
   "id": "b973afc1",
   "metadata": {},
   "outputs": [],
   "source": [
    "# in linear regression -->\n",
    "# error measurement --> MSE\n",
    "# performance of the model (quality of prediction) --> Rsquare."
   ]
  },
  {
   "cell_type": "code",
   "execution_count": 29,
   "id": "c49a681d",
   "metadata": {},
   "outputs": [],
   "source": [
    "# statistic Regression can be devide into two types \n",
    "# 1. linear regression\n",
    "# 2. non linear regression\n",
    "# the non linear regression can be divided into two types 2nd degree and 3rd degree.\n",
    "\n",
    "# y = w0 + w1.x --> linear regression\n",
    "# y = w0 + w1.x + w2.x**2 --> 2nd degree of non linear \n",
    "# y = w0 + w1.x + w2.x**2 + w3.x**3 --> 3rd degree of non linear\n",
    "# income = w0 + w1.age + w2.age**2 + w3.age**3\n"
   ]
  },
  {
   "cell_type": "code",
   "execution_count": 30,
   "id": "3fe9c8fa",
   "metadata": {},
   "outputs": [
    {
     "data": {
      "text/plain": [
       "[20, 21, 23, 25, 28, 30, 35, 40]"
      ]
     },
     "execution_count": 30,
     "metadata": {},
     "output_type": "execute_result"
    }
   ],
   "source": [
    "age\n"
   ]
  },
  {
   "cell_type": "code",
   "execution_count": 31,
   "id": "d6c45e31",
   "metadata": {},
   "outputs": [
    {
     "name": "stdout",
     "output_type": "stream",
     "text": [
      "[[  20  400]\n",
      " [  21  441]\n",
      " [  23  529]\n",
      " [  25  625]\n",
      " [  28  784]\n",
      " [  30  900]\n",
      " [  35 1225]\n",
      " [  40 1600]]\n"
     ]
    }
   ],
   "source": [
    "Age2 = Age**2\n",
    "print(np.c_[Age, Age2])"
   ]
  },
  {
   "cell_type": "code",
   "execution_count": 32,
   "id": "39bde23c",
   "metadata": {},
   "outputs": [
    {
     "data": {
      "text/plain": [
       "array([[  0,   0],\n",
       "       [  0,   0],\n",
       "       [  1,   1],\n",
       "       [  2,   4],\n",
       "       [  3,   9],\n",
       "       [  5,  25],\n",
       "       [ 10, 100],\n",
       "       [ 12, 144]])"
      ]
     },
     "execution_count": 32,
     "metadata": {},
     "output_type": "execute_result"
    }
   ],
   "source": [
    "Exp2 = Exp ** 2\n",
    "np.c_[Exp, Exp2]"
   ]
  },
  {
   "cell_type": "code",
   "execution_count": 34,
   "id": "1c3b05a5",
   "metadata": {},
   "outputs": [
    {
     "data": {
      "text/plain": [
       "(8, 5)"
      ]
     },
     "execution_count": 34,
     "metadata": {},
     "output_type": "execute_result"
    }
   ],
   "source": [
    "# prepare data for 2nd degree non linear regression\n",
    "ones = np.ones(len(Age))\n",
    "X2 = np.c_[ones, Age, Age2, Exp, Exp2]\n",
    "X2.shape"
   ]
  },
  {
   "cell_type": "code",
   "execution_count": 35,
   "id": "70412969",
   "metadata": {},
   "outputs": [
    {
     "data": {
      "text/plain": [
       "array([[1.000e+00, 2.000e+01, 4.000e+02, 0.000e+00, 0.000e+00],\n",
       "       [1.000e+00, 2.100e+01, 4.410e+02, 0.000e+00, 0.000e+00],\n",
       "       [1.000e+00, 2.300e+01, 5.290e+02, 1.000e+00, 1.000e+00],\n",
       "       [1.000e+00, 2.500e+01, 6.250e+02, 2.000e+00, 4.000e+00],\n",
       "       [1.000e+00, 2.800e+01, 7.840e+02, 3.000e+00, 9.000e+00],\n",
       "       [1.000e+00, 3.000e+01, 9.000e+02, 5.000e+00, 2.500e+01],\n",
       "       [1.000e+00, 3.500e+01, 1.225e+03, 1.000e+01, 1.000e+02],\n",
       "       [1.000e+00, 4.000e+01, 1.600e+03, 1.200e+01, 1.440e+02]])"
      ]
     },
     "execution_count": 35,
     "metadata": {},
     "output_type": "execute_result"
    }
   ],
   "source": [
    "X2\n"
   ]
  },
  {
   "cell_type": "code",
   "execution_count": 36,
   "id": "bfbb5799",
   "metadata": {},
   "outputs": [
    {
     "data": {
      "text/plain": [
       "array([[ 43. ],\n",
       "       [ 45. ],\n",
       "       [ 51.5],\n",
       "       [ 58. ],\n",
       "       [ 66.5],\n",
       "       [ 75.5],\n",
       "       [ 98. ],\n",
       "       [113. ]])"
      ]
     },
     "execution_count": 36,
     "metadata": {},
     "output_type": "execute_result"
    }
   ],
   "source": [
    "Y"
   ]
  },
  {
   "cell_type": "code",
   "execution_count": 38,
   "id": "2bc39110",
   "metadata": {},
   "outputs": [
    {
     "data": {
      "text/plain": [
       "(5, 1)"
      ]
     },
     "execution_count": 38,
     "metadata": {},
     "output_type": "execute_result"
    }
   ],
   "source": [
    "W2 = inv(X2.T.dot(X2)).dot(X2.T.dot(Y))\n",
    "W2.shape"
   ]
  },
  {
   "cell_type": "code",
   "execution_count": 39,
   "id": "64966573",
   "metadata": {},
   "outputs": [
    {
     "data": {
      "text/plain": [
       "array([[ 3.00000000e+00],\n",
       "       [ 2.00000000e+00],\n",
       "       [-2.27373675e-13],\n",
       "       [ 2.50000000e+00],\n",
       "       [-4.54747351e-13]])"
      ]
     },
     "execution_count": 39,
     "metadata": {},
     "output_type": "execute_result"
    }
   ],
   "source": [
    "W2"
   ]
  },
  {
   "cell_type": "code",
   "execution_count": 40,
   "id": "8b17e5f8",
   "metadata": {},
   "outputs": [
    {
     "data": {
      "text/plain": [
       "array([[ 43. ],\n",
       "       [ 45. ],\n",
       "       [ 51.5],\n",
       "       [ 58. ],\n",
       "       [ 66.5],\n",
       "       [ 75.5],\n",
       "       [ 98. ],\n",
       "       [113. ]])"
      ]
     },
     "execution_count": 40,
     "metadata": {},
     "output_type": "execute_result"
    }
   ],
   "source": [
    "ycap2 = X2.dot(W2)\n",
    "ycap2"
   ]
  },
  {
   "cell_type": "code",
   "execution_count": 46,
   "id": "1dcc85f7",
   "metadata": {},
   "outputs": [],
   "source": [
    "def rsquare(y,ycap):\n",
    "    rss = ((y - ycap)**2).sum()\n",
    "    tss = ((y - y.mean())**2).sum()\n",
    "    rsq = 1 - (rss/tss)\n",
    "    return rsq"
   ]
  },
  {
   "cell_type": "code",
   "execution_count": 48,
   "id": "754eb8fe",
   "metadata": {},
   "outputs": [
    {
     "name": "stdout",
     "output_type": "stream",
     "text": [
      "Accuarcy:  100.0\n"
     ]
    }
   ],
   "source": [
    "accuracy = rsquare(Y,ycap2)*100\n",
    "print(\"Accuarcy: \",accuracy)"
   ]
  },
  {
   "cell_type": "code",
   "execution_count": 49,
   "id": "a6c5bce0",
   "metadata": {},
   "outputs": [],
   "source": [
    "Age3 = Age**3\n",
    "Exp3 = Exp**3"
   ]
  },
  {
   "cell_type": "code",
   "execution_count": 50,
   "id": "5de86a49",
   "metadata": {},
   "outputs": [
    {
     "data": {
      "text/plain": [
       "(8, 7)"
      ]
     },
     "execution_count": 50,
     "metadata": {},
     "output_type": "execute_result"
    }
   ],
   "source": [
    "# Prepare data for 3rd degree non linear model.\n",
    "X3 = np.c_[ones, Age, Age2, Age3, Exp, Exp2, Exp3]\n",
    "X3.shape"
   ]
  },
  {
   "cell_type": "code",
   "execution_count": 51,
   "id": "a59a5731",
   "metadata": {},
   "outputs": [
    {
     "data": {
      "text/plain": [
       "array([[1.0000e+00, 2.0000e+01, 4.0000e+02, 8.0000e+03, 0.0000e+00,\n",
       "        0.0000e+00, 0.0000e+00],\n",
       "       [1.0000e+00, 2.1000e+01, 4.4100e+02, 9.2610e+03, 0.0000e+00,\n",
       "        0.0000e+00, 0.0000e+00],\n",
       "       [1.0000e+00, 2.3000e+01, 5.2900e+02, 1.2167e+04, 1.0000e+00,\n",
       "        1.0000e+00, 1.0000e+00],\n",
       "       [1.0000e+00, 2.5000e+01, 6.2500e+02, 1.5625e+04, 2.0000e+00,\n",
       "        4.0000e+00, 8.0000e+00],\n",
       "       [1.0000e+00, 2.8000e+01, 7.8400e+02, 2.1952e+04, 3.0000e+00,\n",
       "        9.0000e+00, 2.7000e+01],\n",
       "       [1.0000e+00, 3.0000e+01, 9.0000e+02, 2.7000e+04, 5.0000e+00,\n",
       "        2.5000e+01, 1.2500e+02],\n",
       "       [1.0000e+00, 3.5000e+01, 1.2250e+03, 4.2875e+04, 1.0000e+01,\n",
       "        1.0000e+02, 1.0000e+03],\n",
       "       [1.0000e+00, 4.0000e+01, 1.6000e+03, 6.4000e+04, 1.2000e+01,\n",
       "        1.4400e+02, 1.7280e+03]])"
      ]
     },
     "execution_count": 51,
     "metadata": {},
     "output_type": "execute_result"
    }
   ],
   "source": [
    "X3"
   ]
  },
  {
   "cell_type": "code",
   "execution_count": 53,
   "id": "bc7983f6",
   "metadata": {},
   "outputs": [
    {
     "data": {
      "text/plain": [
       "array([[ 3.00000003e+00],\n",
       "       [ 2.00000000e+00],\n",
       "       [ 8.73114914e-11],\n",
       "       [-1.36424205e-12],\n",
       "       [ 2.50000000e+00],\n",
       "       [-1.45519152e-10],\n",
       "       [ 8.18545232e-12]])"
      ]
     },
     "execution_count": 53,
     "metadata": {},
     "output_type": "execute_result"
    }
   ],
   "source": [
    "W3 = inv(X3.T.dot(X3)).dot(X3.T.dot(Y))\n",
    "W3"
   ]
  },
  {
   "cell_type": "code",
   "execution_count": 54,
   "id": "942f867b",
   "metadata": {},
   "outputs": [
    {
     "data": {
      "text/plain": [
       "array([[ 43.        ],\n",
       "       [ 45.        ],\n",
       "       [ 51.5       ],\n",
       "       [ 58.        ],\n",
       "       [ 66.5       ],\n",
       "       [ 75.5       ],\n",
       "       [ 97.99999999],\n",
       "       [112.99999998]])"
      ]
     },
     "execution_count": 54,
     "metadata": {},
     "output_type": "execute_result"
    }
   ],
   "source": [
    "ycap3 = X3.dot(W3)\n",
    "ycap3"
   ]
  },
  {
   "cell_type": "code",
   "execution_count": 56,
   "id": "478716aa",
   "metadata": {},
   "outputs": [
    {
     "name": "stdout",
     "output_type": "stream",
     "text": [
      "Accuiracy:  100.0\n"
     ]
    }
   ],
   "source": [
    "accuracy3 = rsquare(Y, ycap3)*100\n",
    "print(\"Accuiracy: \",accuracy3)"
   ]
  },
  {
   "cell_type": "code",
   "execution_count": 57,
   "id": "1783fb8e",
   "metadata": {},
   "outputs": [],
   "source": [
    "# case 1\n",
    "# linear --> 100%\n",
    "# non linear 2nd degree --> 100%\n",
    "# non linear 3rd degree --> 100%\n",
    "# linear is select"
   ]
  },
  {
   "cell_type": "code",
   "execution_count": 58,
   "id": "12c06205",
   "metadata": {},
   "outputs": [],
   "source": [
    "# case 2\n",
    "# linear --> 40%\n",
    "# non linear 2nd degree --> 85%\n",
    "# non linear 3rd degree --> 99%\n",
    "# 3rd degree is selected\n"
   ]
  },
  {
   "cell_type": "code",
   "execution_count": 59,
   "id": "c7239c32",
   "metadata": {},
   "outputs": [],
   "source": [
    "# case 3\n",
    "# linear --> 40%\n",
    "# non linear 2nd degree --> 44%\n",
    "# non linear 3rd degree --> 39%\n",
    "# no module is selected"
   ]
  },
  {
   "cell_type": "code",
   "execution_count": null,
   "id": "77a780f0",
   "metadata": {},
   "outputs": [],
   "source": [
    "# case 4\n",
    "# linear --> 80%\n",
    "# non linear 2nd degree --> 95%\n",
    "# non linear 3rd degree --> 95%\n",
    "# 2nd degree is cheaper in computing cost --> selecyt 2nd degree."
   ]
  }
 ],
 "metadata": {
  "kernelspec": {
   "display_name": "Python 3 (ipykernel)",
   "language": "python",
   "name": "python3"
  },
  "language_info": {
   "codemirror_mode": {
    "name": "ipython",
    "version": 3
   },
   "file_extension": ".py",
   "mimetype": "text/x-python",
   "name": "python",
   "nbconvert_exporter": "python",
   "pygments_lexer": "ipython3",
   "version": "3.10.9"
  }
 },
 "nbformat": 4,
 "nbformat_minor": 5
}
