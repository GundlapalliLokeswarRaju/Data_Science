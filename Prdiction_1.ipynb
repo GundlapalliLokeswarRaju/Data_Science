{
 "cells": [
  {
   "cell_type": "code",
   "execution_count": 1,
   "id": "6e4f9383",
   "metadata": {},
   "outputs": [],
   "source": [
    "# Based on age, experience predict income\n",
    "# Age, Experience are the input variables\n",
    "# Income is a Target variable"
   ]
  },
  {
   "cell_type": "code",
   "execution_count": 2,
   "id": "42a8757e",
   "metadata": {},
   "outputs": [],
   "source": [
    "age = [20, 21, 23, 25, 28, 30, 35, 40]\n",
    "experience = [ 0,  0,  1,  2,  3,  5, 10, 12]\n",
    "income = [ 43. ,  45. ,  51.5,  58. ,  66.5,  75.5,  98. , 113. ]"
   ]
  },
  {
   "cell_type": "code",
   "execution_count": 3,
   "id": "7fd3d9dd",
   "metadata": {},
   "outputs": [],
   "source": [
    "import numpy as np\n",
    "Age = np.array(age)\n",
    "Exp = np.array(experience)\n",
    "Inc = np.array(income)\n"
   ]
  },
  {
   "cell_type": "code",
   "execution_count": 4,
   "id": "324303f1",
   "metadata": {},
   "outputs": [],
   "source": [
    "# Find out the mean of every input variable\n",
    "age_mean = Age.mean()\n",
    "exp_mean = Exp.mean()"
   ]
  },
  {
   "cell_type": "code",
   "execution_count": 5,
   "id": "9c1eec4e",
   "metadata": {},
   "outputs": [],
   "source": [
    "# write a correlation function\n",
    "def corr(x,y):\n",
    "    dx = x - x.mean()\n",
    "    dy = y - y.mean()\n",
    "    num = (dx*dy).sum()\n",
    "    dleft = (dx**2).sum()\n",
    "    dright = (dy**2).sum()\n",
    "    den = (dleft * dright)**0.5\n",
    "    return num/den"
   ]
  },
  {
   "cell_type": "code",
   "execution_count": 6,
   "id": "88cd5efd",
   "metadata": {},
   "outputs": [
    {
     "data": {
      "text/plain": [
       "0.985022087314044"
      ]
     },
     "execution_count": 6,
     "metadata": {},
     "output_type": "execute_result"
    }
   ],
   "source": [
    "corr(Age,Exp) # perfect positive"
   ]
  },
  {
   "cell_type": "code",
   "execution_count": 7,
   "id": "64206e0e",
   "metadata": {},
   "outputs": [
    {
     "data": {
      "text/plain": [
       "0.9954551681741046"
      ]
     },
     "execution_count": 7,
     "metadata": {},
     "output_type": "execute_result"
    }
   ],
   "source": [
    "corr(Exp,Inc)"
   ]
  },
  {
   "cell_type": "code",
   "execution_count": 8,
   "id": "87f331e8",
   "metadata": {},
   "outputs": [],
   "source": [
    "# Prepare input matrix to insert ones data\n",
    "\n",
    "ones = np.ones(len(Age))"
   ]
  },
  {
   "cell_type": "code",
   "execution_count": 9,
   "id": "407549ec",
   "metadata": {},
   "outputs": [
    {
     "data": {
      "text/plain": [
       "array([1., 1., 1., 1., 1., 1., 1., 1.])"
      ]
     },
     "execution_count": 9,
     "metadata": {},
     "output_type": "execute_result"
    }
   ],
   "source": [
    "ones\n"
   ]
  },
  {
   "cell_type": "code",
   "execution_count": 10,
   "id": "050b5872",
   "metadata": {},
   "outputs": [],
   "source": [
    "x = np.c_[ones,Age,Exp]"
   ]
  },
  {
   "cell_type": "code",
   "execution_count": 11,
   "id": "829cbe53",
   "metadata": {},
   "outputs": [
    {
     "data": {
      "text/plain": [
       "array([[ 1., 20.,  0.],\n",
       "       [ 1., 21.,  0.],\n",
       "       [ 1., 23.,  1.],\n",
       "       [ 1., 25.,  2.],\n",
       "       [ 1., 28.,  3.],\n",
       "       [ 1., 30.,  5.],\n",
       "       [ 1., 35., 10.],\n",
       "       [ 1., 40., 12.]])"
      ]
     },
     "execution_count": 11,
     "metadata": {},
     "output_type": "execute_result"
    }
   ],
   "source": [
    "x"
   ]
  },
  {
   "cell_type": "code",
   "execution_count": 12,
   "id": "464d64d1",
   "metadata": {},
   "outputs": [
    {
     "data": {
      "text/plain": [
       "(8, 3)"
      ]
     },
     "execution_count": 12,
     "metadata": {},
     "output_type": "execute_result"
    }
   ],
   "source": [
    "x.shape"
   ]
  },
  {
   "cell_type": "code",
   "execution_count": 13,
   "id": "b38388af",
   "metadata": {},
   "outputs": [
    {
     "data": {
      "text/plain": [
       "(8, 1)"
      ]
     },
     "execution_count": 13,
     "metadata": {},
     "output_type": "execute_result"
    }
   ],
   "source": [
    "# Output matrix\n",
    "y = np.c_[Inc]\n",
    "y.shape"
   ]
  },
  {
   "cell_type": "code",
   "execution_count": 14,
   "id": "b580452f",
   "metadata": {},
   "outputs": [
    {
     "data": {
      "text/plain": [
       "array([[ 43. ],\n",
       "       [ 45. ],\n",
       "       [ 51.5],\n",
       "       [ 58. ],\n",
       "       [ 66.5],\n",
       "       [ 75.5],\n",
       "       [ 98. ],\n",
       "       [113. ]])"
      ]
     },
     "execution_count": 14,
     "metadata": {},
     "output_type": "execute_result"
    }
   ],
   "source": [
    "\n",
    "y"
   ]
  },
  {
   "cell_type": "code",
   "execution_count": 15,
   "id": "b31c22d1",
   "metadata": {},
   "outputs": [
    {
     "data": {
      "text/plain": [
       "array([[3. ],\n",
       "       [2. ],\n",
       "       [2.5]])"
      ]
     },
     "execution_count": 15,
     "metadata": {},
     "output_type": "execute_result"
    }
   ],
   "source": [
    "# The formula is w = (x.t * x)**-1 . (x.t*y)\n",
    "from numpy.linalg import inv\n",
    "w = inv(x.T.dot(x)).dot(x.T.dot(y))\n",
    "w.shape\n",
    "w"
   ]
  },
  {
   "cell_type": "code",
   "execution_count": 16,
   "id": "2a890253",
   "metadata": {},
   "outputs": [],
   "source": [
    "# array([[3. ], --> intercept \n",
    "#        [2. ], --> slope of age\n",
    "#        [2.5]]) --. slope of Experience"
   ]
  },
  {
   "cell_type": "code",
   "execution_count": 17,
   "id": "fb0bc558",
   "metadata": {},
   "outputs": [
    {
     "data": {
      "text/plain": [
       "array([[ 43. ],\n",
       "       [ 45. ],\n",
       "       [ 51.5],\n",
       "       [ 58. ],\n",
       "       [ 66.5],\n",
       "       [ 75.5],\n",
       "       [ 98. ],\n",
       "       [113. ]])"
      ]
     },
     "execution_count": 17,
     "metadata": {},
     "output_type": "execute_result"
    }
   ],
   "source": [
    "# prediction\n",
    "ycap = x.dot(w)\n",
    "ycap"
   ]
  },
  {
   "cell_type": "code",
   "execution_count": 18,
   "id": "6d8bcbae",
   "metadata": {},
   "outputs": [
    {
     "data": {
      "text/plain": [
       "array([[ 43. ,  43. ],\n",
       "       [ 45. ,  45. ],\n",
       "       [ 51.5,  51.5],\n",
       "       [ 58. ,  58. ],\n",
       "       [ 66.5,  66.5],\n",
       "       [ 75.5,  75.5],\n",
       "       [ 98. ,  98. ],\n",
       "       [113. , 113. ]])"
      ]
     },
     "execution_count": 18,
     "metadata": {},
     "output_type": "execute_result"
    }
   ],
   "source": [
    "comp = np.c_[y, ycap]\n",
    "comp"
   ]
  },
  {
   "cell_type": "code",
   "execution_count": 19,
   "id": "93f38f3b",
   "metadata": {},
   "outputs": [
    {
     "data": {
      "text/plain": [
       "1.0"
      ]
     },
     "execution_count": 19,
     "metadata": {},
     "output_type": "execute_result"
    }
   ],
   "source": [
    "# to test the quality of prediction --> Rsquare is used\n",
    "\n",
    "rss = ((y - ycap)**2).sum()\n",
    "tss = ((y - y.mean())**2).sum()\n",
    "r = 1 - (rss/tss)\n",
    "r"
   ]
  },
  {
   "cell_type": "code",
   "execution_count": 20,
   "id": "a3a4fa93",
   "metadata": {},
   "outputs": [],
   "source": [
    "def rsquare(y,ycap):\n",
    "    rss = ((y - ycap)**2).sum()\n",
    "    tss = ((y - y.mean())**2).sum()\n",
    "    r = 1 - (rss/tss)\n",
    "    return r"
   ]
  },
  {
   "cell_type": "code",
   "execution_count": 21,
   "id": "b3210bc6",
   "metadata": {},
   "outputs": [],
   "source": [
    "accuracy = rsquare(y,ycap) * 100"
   ]
  },
  {
   "cell_type": "code",
   "execution_count": 22,
   "id": "4a3d5422",
   "metadata": {},
   "outputs": [
    {
     "name": "stdout",
     "output_type": "stream",
     "text": [
      "accuarcy of model is  100.0\n"
     ]
    }
   ],
   "source": [
    "print(\"accuarcy of model is \", accuracy)"
   ]
  },
  {
   "cell_type": "code",
   "execution_count": 23,
   "id": "2408abc4",
   "metadata": {},
   "outputs": [],
   "source": [
    "# Task 2: We need to predict salary. based on the age and experience.\n",
    "\n",
    "new_age = [21, 20, 39, 40]\n",
    "new_exp = [0, 0, 11, 12]\n"
   ]
  },
  {
   "cell_type": "code",
   "execution_count": 24,
   "id": "e210a9f2",
   "metadata": {},
   "outputs": [],
   "source": [
    "age = np.array(new_age)\n",
    "exp = np.array(new_exp)"
   ]
  },
  {
   "cell_type": "code",
   "execution_count": 25,
   "id": "47b702c8",
   "metadata": {},
   "outputs": [
    {
     "data": {
      "text/plain": [
       "0.9990162780146166"
      ]
     },
     "execution_count": 25,
     "metadata": {},
     "output_type": "execute_result"
    }
   ],
   "source": [
    "corr(age, exp) # perfect positive"
   ]
  },
  {
   "cell_type": "code",
   "execution_count": 26,
   "id": "e902b5a9",
   "metadata": {},
   "outputs": [
    {
     "data": {
      "text/plain": [
       "(4,)"
      ]
     },
     "execution_count": 26,
     "metadata": {},
     "output_type": "execute_result"
    }
   ],
   "source": [
    "# prepare input matrix\n",
    "ones = np.ones(len(age))\n",
    "ones.shape"
   ]
  },
  {
   "cell_type": "code",
   "execution_count": 27,
   "id": "14019c33",
   "metadata": {},
   "outputs": [
    {
     "data": {
      "text/plain": [
       "array([1., 1., 1., 1.])"
      ]
     },
     "execution_count": 27,
     "metadata": {},
     "output_type": "execute_result"
    }
   ],
   "source": [
    "ones"
   ]
  },
  {
   "cell_type": "code",
   "execution_count": 28,
   "id": "74f7ee8c",
   "metadata": {},
   "outputs": [],
   "source": [
    "x = np.c_[ones, age, exp]"
   ]
  },
  {
   "cell_type": "code",
   "execution_count": 29,
   "id": "6a471f98",
   "metadata": {},
   "outputs": [
    {
     "data": {
      "text/plain": [
       "array([[ 1., 21.,  0.],\n",
       "       [ 1., 20.,  0.],\n",
       "       [ 1., 39., 11.],\n",
       "       [ 1., 40., 12.]])"
      ]
     },
     "execution_count": 29,
     "metadata": {},
     "output_type": "execute_result"
    }
   ],
   "source": [
    "x"
   ]
  },
  {
   "cell_type": "code",
   "execution_count": 31,
   "id": "ca4943e4",
   "metadata": {},
   "outputs": [
    {
     "data": {
      "text/plain": [
       "(4, 1)"
      ]
     },
     "execution_count": 31,
     "metadata": {},
     "output_type": "execute_result"
    }
   ],
   "source": [
    "salary = x.dot(w)\n",
    "salary.shape"
   ]
  },
  {
   "cell_type": "code",
   "execution_count": 32,
   "id": "713b2e29",
   "metadata": {},
   "outputs": [
    {
     "data": {
      "text/plain": [
       "array([[ 45. ],\n",
       "       [ 43. ],\n",
       "       [108.5],\n",
       "       [113. ]])"
      ]
     },
     "execution_count": 32,
     "metadata": {},
     "output_type": "execute_result"
    }
   ],
   "source": [
    "salary\n"
   ]
  },
  {
   "cell_type": "code",
   "execution_count": 33,
   "id": "7bd3c69e",
   "metadata": {},
   "outputs": [
    {
     "data": {
      "text/plain": [
       "array([[ 21. ,   0. ,  45. ],\n",
       "       [ 20. ,   0. ,  43. ],\n",
       "       [ 39. ,  11. , 108.5],\n",
       "       [ 40. ,  12. , 113. ]])"
      ]
     },
     "execution_count": 33,
     "metadata": {},
     "output_type": "execute_result"
    }
   ],
   "source": [
    "np.c_[age, exp, salary]"
   ]
  },
  {
   "cell_type": "code",
   "execution_count": null,
   "id": "0448cd19",
   "metadata": {},
   "outputs": [],
   "source": []
  }
 ],
 "metadata": {
  "kernelspec": {
   "display_name": "Python 3 (ipykernel)",
   "language": "python",
   "name": "python3"
  },
  "language_info": {
   "codemirror_mode": {
    "name": "ipython",
    "version": 3
   },
   "file_extension": ".py",
   "mimetype": "text/x-python",
   "name": "python",
   "nbconvert_exporter": "python",
   "pygments_lexer": "ipython3",
   "version": "3.10.9"
  }
 },
 "nbformat": 4,
 "nbformat_minor": 5
}
