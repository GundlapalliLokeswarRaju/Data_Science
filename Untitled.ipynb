{
 "cells": [
  {
   "cell_type": "code",
   "execution_count": 1,
   "id": "3216f44b",
   "metadata": {},
   "outputs": [],
   "source": [
    "# Range\n",
    "# IQR\n",
    "# Variance\n",
    "# standard deviation"
   ]
  },
  {
   "cell_type": "code",
   "execution_count": 2,
   "id": "3f0e576c",
   "metadata": {},
   "outputs": [
    {
     "name": "stdout",
     "output_type": "stream",
     "text": [
      "[10, 20, 30, 40, 50]\n"
     ]
    }
   ],
   "source": [
    "x = [10, 20, 30, 40, 50]\n",
    "print(x)\n"
   ]
  },
  {
   "cell_type": "code",
   "execution_count": 3,
   "id": "926a13d3",
   "metadata": {},
   "outputs": [
    {
     "name": "stdout",
     "output_type": "stream",
     "text": [
      "30.0\n"
     ]
    },
    {
     "data": {
      "text/plain": [
       "[-20.0, -10.0, 0.0, 10.0, 20.0]"
      ]
     },
     "execution_count": 3,
     "metadata": {},
     "output_type": "execute_result"
    }
   ],
   "source": [
    "meanx = sum(x)/len(x)  \n",
    "print(meanx)\n",
    "dev = [v-meanx for v in x]\n",
    "dev"
   ]
  },
  {
   "cell_type": "code",
   "execution_count": 4,
   "id": "5fb1892c",
   "metadata": {},
   "outputs": [
    {
     "data": {
      "text/plain": [
       "0.0"
      ]
     },
     "execution_count": 4,
     "metadata": {},
     "output_type": "execute_result"
    }
   ],
   "source": [
    "sum(dev)"
   ]
  },
  {
   "cell_type": "code",
   "execution_count": 5,
   "id": "021182fe",
   "metadata": {},
   "outputs": [
    {
     "data": {
      "text/plain": [
       "[400.0, 100.0, 0.0, 100.0, 400.0]"
      ]
     },
     "execution_count": 5,
     "metadata": {},
     "output_type": "execute_result"
    }
   ],
   "source": [
    "devsq = [i ** 2 for i in dev]\n",
    "devsq"
   ]
  },
  {
   "cell_type": "code",
   "execution_count": 6,
   "id": "474e1972",
   "metadata": {},
   "outputs": [
    {
     "name": "stdout",
     "output_type": "stream",
     "text": [
      "varience  250.0\n"
     ]
    }
   ],
   "source": [
    "num = sum(devsq)\n",
    "den = len(x)-1\n",
    "v = num / den\n",
    "print(\"varience \",v)"
   ]
  },
  {
   "cell_type": "code",
   "execution_count": 7,
   "id": "08ab1e54",
   "metadata": {},
   "outputs": [],
   "source": [
    "def var(x):\n",
    "    meanx = sum(x)/len(x)\n",
    "    dev = [v-meanx for v in x]\n",
    "    devsqr = [v**2 for v in dev]\n",
    "    num = sum(devsqr)\n",
    "    den = len(x)-1\n",
    "    return num/den"
   ]
  },
  {
   "cell_type": "code",
   "execution_count": 8,
   "id": "8a6a6f95",
   "metadata": {},
   "outputs": [
    {
     "data": {
      "text/plain": [
       "250.0"
      ]
     },
     "execution_count": 8,
     "metadata": {},
     "output_type": "execute_result"
    }
   ],
   "source": [
    "var(x)"
   ]
  },
  {
   "cell_type": "code",
   "execution_count": 9,
   "id": "188c6934",
   "metadata": {},
   "outputs": [
    {
     "data": {
      "text/plain": [
       "35000.0"
      ]
     },
     "execution_count": 9,
     "metadata": {},
     "output_type": "execute_result"
    }
   ],
   "source": [
    "var([100,200,300,400,500,600])"
   ]
  },
  {
   "cell_type": "code",
   "execution_count": 10,
   "id": "43333e22",
   "metadata": {},
   "outputs": [],
   "source": [
    "def sd(x):\n",
    "    v = var(x)\n",
    "    return v ** 0.5\n"
   ]
  },
  {
   "cell_type": "code",
   "execution_count": 11,
   "id": "b69d4c46",
   "metadata": {},
   "outputs": [
    {
     "data": {
      "text/plain": [
       "166.66666666666666"
      ]
     },
     "execution_count": 11,
     "metadata": {},
     "output_type": "execute_result"
    }
   ],
   "source": [
    "var([10,20,30,40])"
   ]
  },
  {
   "cell_type": "code",
   "execution_count": 12,
   "id": "8f0d26a8",
   "metadata": {},
   "outputs": [
    {
     "data": {
      "text/plain": [
       "12.909944487358056"
      ]
     },
     "execution_count": 12,
     "metadata": {},
     "output_type": "execute_result"
    }
   ],
   "source": [
    "sd([10,20,30,40])"
   ]
  },
  {
   "cell_type": "code",
   "execution_count": 13,
   "id": "86497535",
   "metadata": {},
   "outputs": [
    {
     "data": {
      "text/plain": [
       "[10, 20, 30, 40, 50]"
      ]
     },
     "execution_count": 13,
     "metadata": {},
     "output_type": "execute_result"
    }
   ],
   "source": [
    "x"
   ]
  },
  {
   "cell_type": "code",
   "execution_count": 14,
   "id": "27c4d4f2",
   "metadata": {},
   "outputs": [
    {
     "data": {
      "text/plain": [
       "15.811388300841896"
      ]
     },
     "execution_count": 14,
     "metadata": {},
     "output_type": "execute_result"
    }
   ],
   "source": [
    "sd(x)"
   ]
  },
  {
   "cell_type": "code",
   "execution_count": 15,
   "id": "0a7e63e7",
   "metadata": {},
   "outputs": [],
   "source": [
    "# 65% of values are in 1 sd distance to mean.\n",
    "# 90% of values are in 2 sd distance to mean.\n",
    "# 97.5% of values are in 3 sd distance to mean.\n",
    "# out of range of 3 sd distance to mean, are treated as outliers."
   ]
  },
  {
   "cell_type": "code",
   "execution_count": 16,
   "id": "509ee954",
   "metadata": {},
   "outputs": [],
   "source": [
    "# up to now:\n",
    "# mct --> mean, mode, median\n",
    "# mean --> am, gm, hm\n",
    "# median --> quartile 1, q2(median), q3"
   ]
  },
  {
   "cell_type": "code",
   "execution_count": 17,
   "id": "d6455cb4",
   "metadata": {},
   "outputs": [],
   "source": [
    "# dispersion --> range, IQR, Variance, Standard Deviation"
   ]
  },
  {
   "cell_type": "code",
   "execution_count": 18,
   "id": "c5069e01",
   "metadata": {},
   "outputs": [],
   "source": [
    "# multi variate analysis.\n",
    "# Analysis over multiple variables as combination.\n",
    "# statistical instruments at a time applied on minimum 2 variables.\n",
    "# exmaples:\n",
    "# covariance\n",
    "# correlation\n",
    "# linear regression\n",
    "# non linear regression\n",
    "# logistic regression\n",
    "# forecasting"
   ]
  },
  {
   "cell_type": "code",
   "execution_count": 19,
   "id": "7a22ed08",
   "metadata": {},
   "outputs": [],
   "source": [
    "def cov(x,y):\n",
    "    mx = sum(x)/len(x)\n",
    "    my = sum(y)/len(y)\n",
    "    devx = [i - mx for i in x]\n",
    "    devy = [j - my for j in y]\n",
    "    dxdy = [i*j for i,j in list(zip(devx,devy))]\n",
    "    num = sum(dxdy)\n",
    "    den = len(x)-1\n",
    "    return num/den"
   ]
  },
  {
   "cell_type": "code",
   "execution_count": 23,
   "id": "5906e2a6",
   "metadata": {},
   "outputs": [],
   "source": [
    "t = [12,14, 15,16, 18,20, 21, 24, 27, 30, 20, 10]\n",
    "ice = [25, 30, 31, 35, 37, 44, 45, 50, 55, 61, 39,22]"
   ]
  },
  {
   "cell_type": "code",
   "execution_count": 24,
   "id": "4d22fd4f",
   "metadata": {},
   "outputs": [
    {
     "data": {
      "text/plain": [
       "71.31818181818181"
      ]
     },
     "execution_count": 24,
     "metadata": {},
     "output_type": "execute_result"
    }
   ],
   "source": [
    "cov(t, ice)"
   ]
  },
  {
   "cell_type": "code",
   "execution_count": 25,
   "id": "f17f120d",
   "metadata": {},
   "outputs": [
    {
     "name": "stdout",
     "output_type": "stream",
     "text": [
      "Positive dependence\n"
     ]
    }
   ],
   "source": [
    "if cov(t, ice)>0:\n",
    "    print(\"Positive dependence\")"
   ]
  },
  {
   "cell_type": "code",
   "execution_count": 26,
   "id": "6928483e",
   "metadata": {},
   "outputs": [],
   "source": [
    "# if temperature increases, icecream sales will be also be increased.\n",
    "# both variables do same direction journey."
   ]
  },
  {
   "cell_type": "code",
   "execution_count": 27,
   "id": "0d8d21d4",
   "metadata": {},
   "outputs": [
    {
     "data": {
      "text/plain": [
       "[12, 14, 15, 16, 18, 20, 21, 24, 27, 30, 20, 10]"
      ]
     },
     "execution_count": 27,
     "metadata": {},
     "output_type": "execute_result"
    }
   ],
   "source": [
    "t\n"
   ]
  },
  {
   "cell_type": "code",
   "execution_count": 28,
   "id": "ebf71172",
   "metadata": {},
   "outputs": [
    {
     "data": {
      "text/plain": [
       "12"
      ]
     },
     "execution_count": 28,
     "metadata": {},
     "output_type": "execute_result"
    }
   ],
   "source": [
    "len(t)"
   ]
  },
  {
   "cell_type": "code",
   "execution_count": 30,
   "id": "0fa87d9c",
   "metadata": {},
   "outputs": [
    {
     "data": {
      "text/plain": [
       "12"
      ]
     },
     "execution_count": 30,
     "metadata": {},
     "output_type": "execute_result"
    }
   ],
   "source": [
    "swetter = [30, 28, 27, 25, 24, 20, 21, 20, 16,10, 15, 35]\n",
    "len(swetter)\n"
   ]
  },
  {
   "cell_type": "code",
   "execution_count": 31,
   "id": "b2b8ea30",
   "metadata": {},
   "outputs": [
    {
     "data": {
      "text/plain": [
       "-39.49242424242424"
      ]
     },
     "execution_count": 31,
     "metadata": {},
     "output_type": "execute_result"
    }
   ],
   "source": [
    "cov(t, swetter)"
   ]
  },
  {
   "cell_type": "code",
   "execution_count": 32,
   "id": "64a807bf",
   "metadata": {},
   "outputs": [],
   "source": [
    "# negative dependency --> if one variable value increases, 2nd variable value will be also is also descresed."
   ]
  },
  {
   "cell_type": "code",
   "execution_count": 33,
   "id": "8f44a2e6",
   "metadata": {},
   "outputs": [],
   "source": [
    "# both variables do opposite direction journey."
   ]
  },
  {
   "cell_type": "code",
   "execution_count": 37,
   "id": "6535690e",
   "metadata": {},
   "outputs": [],
   "source": [
    "def corr(x,y):\n",
    "    meanx = sum(x)/len(x)\n",
    "    meany = sum(y)/len(y)\n",
    "    devx = [i-meanx for i in x]\n",
    "    devy = [j-meany for j in y]\n",
    "    devxs = [p**2 for p in devx]\n",
    "    devys = [q**2 for q in devy]\n",
    "    dxdy = [i*j for i,j in list(zip(devx,devy))]\n",
    "    dxdys = [p*q for p,q in list(zip(devxs,devys))]\n",
    "    n = sum(dxdy)\n",
    "    d = (sum(dxdys))**0.5\n",
    "    num = n/d\n",
    "    return num"
   ]
  },
  {
   "cell_type": "code",
   "execution_count": 38,
   "id": "f333e7c0",
   "metadata": {},
   "outputs": [
    {
     "data": {
      "text/plain": [
       "2.3300370658478897"
      ]
     },
     "execution_count": 38,
     "metadata": {},
     "output_type": "execute_result"
    }
   ],
   "source": [
    "corr(t, ice)"
   ]
  },
  {
   "cell_type": "code",
   "execution_count": 39,
   "id": "5b99fe17",
   "metadata": {},
   "outputs": [
    {
     "data": {
      "text/plain": [
       "-2.2142691916848625"
      ]
     },
     "execution_count": 39,
     "metadata": {},
     "output_type": "execute_result"
    }
   ],
   "source": [
    "corr(t, swetter)"
   ]
  },
  {
   "cell_type": "code",
   "execution_count": null,
   "id": "18a8d737",
   "metadata": {},
   "outputs": [],
   "source": []
  }
 ],
 "metadata": {
  "kernelspec": {
   "display_name": "Python 3 (ipykernel)",
   "language": "python",
   "name": "python3"
  },
  "language_info": {
   "codemirror_mode": {
    "name": "ipython",
    "version": 3
   },
   "file_extension": ".py",
   "mimetype": "text/x-python",
   "name": "python",
   "nbconvert_exporter": "python",
   "pygments_lexer": "ipython3",
   "version": "3.10.9"
  }
 },
 "nbformat": 4,
 "nbformat_minor": 5
}
